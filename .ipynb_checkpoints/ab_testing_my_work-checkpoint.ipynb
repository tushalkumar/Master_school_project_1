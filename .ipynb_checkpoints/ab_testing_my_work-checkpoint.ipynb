{
 "cells": [
  {
   "cell_type": "code",
   "execution_count": 1,
   "id": "dbb95bcb",
   "metadata": {},
   "outputs": [],
   "source": [
    "import pandas as pd"
   ]
  },
  {
   "cell_type": "code",
   "execution_count": null,
   "id": "cac404df",
   "metadata": {},
   "outputs": [],
   "source": [
    "df  = pd.read_csv('Master_project_ab_testing.csv')"
   ]
  },
  {
   "cell_type": "code",
   "execution_count": 6,
   "id": "97c0acf8",
   "metadata": {},
   "outputs": [
    {
     "data": {
      "text/html": [
       "<div>\n",
       "<style scoped>\n",
       "    .dataframe tbody tr th:only-of-type {\n",
       "        vertical-align: middle;\n",
       "    }\n",
       "\n",
       "    .dataframe tbody tr th {\n",
       "        vertical-align: top;\n",
       "    }\n",
       "\n",
       "    .dataframe thead th {\n",
       "        text-align: right;\n",
       "    }\n",
       "</style>\n",
       "<table border=\"1\" class=\"dataframe\">\n",
       "  <thead>\n",
       "    <tr style=\"text-align: right;\">\n",
       "      <th></th>\n",
       "      <th>id</th>\n",
       "      <th>country</th>\n",
       "      <th>gender</th>\n",
       "      <th>group</th>\n",
       "      <th>join_dt</th>\n",
       "      <th>device</th>\n",
       "      <th>dt</th>\n",
       "      <th>device.1</th>\n",
       "      <th>spent</th>\n",
       "    </tr>\n",
       "  </thead>\n",
       "  <tbody>\n",
       "    <tr>\n",
       "      <th>0</th>\n",
       "      <td>1010340</td>\n",
       "      <td>USA</td>\n",
       "      <td>F</td>\n",
       "      <td>B</td>\n",
       "      <td>2023-01-30</td>\n",
       "      <td>A</td>\n",
       "      <td>NaN</td>\n",
       "      <td>NaN</td>\n",
       "      <td>0.0</td>\n",
       "    </tr>\n",
       "    <tr>\n",
       "      <th>1</th>\n",
       "      <td>1020252</td>\n",
       "      <td>BRA</td>\n",
       "      <td>M</td>\n",
       "      <td>A</td>\n",
       "      <td>2023-01-27</td>\n",
       "      <td>A</td>\n",
       "      <td>NaN</td>\n",
       "      <td>NaN</td>\n",
       "      <td>0.0</td>\n",
       "    </tr>\n",
       "    <tr>\n",
       "      <th>2</th>\n",
       "      <td>1017309</td>\n",
       "      <td>BRA</td>\n",
       "      <td>M</td>\n",
       "      <td>A</td>\n",
       "      <td>2023-01-28</td>\n",
       "      <td>A</td>\n",
       "      <td>NaN</td>\n",
       "      <td>NaN</td>\n",
       "      <td>0.0</td>\n",
       "    </tr>\n",
       "    <tr>\n",
       "      <th>3</th>\n",
       "      <td>1002379</td>\n",
       "      <td>BRA</td>\n",
       "      <td>F</td>\n",
       "      <td>A</td>\n",
       "      <td>2023-02-03</td>\n",
       "      <td>A</td>\n",
       "      <td>NaN</td>\n",
       "      <td>NaN</td>\n",
       "      <td>0.0</td>\n",
       "    </tr>\n",
       "    <tr>\n",
       "      <th>4</th>\n",
       "      <td>1004713</td>\n",
       "      <td>TUR</td>\n",
       "      <td>NaN</td>\n",
       "      <td>B</td>\n",
       "      <td>2023-01-31</td>\n",
       "      <td>A</td>\n",
       "      <td>NaN</td>\n",
       "      <td>NaN</td>\n",
       "      <td>0.0</td>\n",
       "    </tr>\n",
       "    <tr>\n",
       "      <th>...</th>\n",
       "      <td>...</td>\n",
       "      <td>...</td>\n",
       "      <td>...</td>\n",
       "      <td>...</td>\n",
       "      <td>...</td>\n",
       "      <td>...</td>\n",
       "      <td>...</td>\n",
       "      <td>...</td>\n",
       "      <td>...</td>\n",
       "    </tr>\n",
       "    <tr>\n",
       "      <th>49077</th>\n",
       "      <td>1048582</td>\n",
       "      <td>GBR</td>\n",
       "      <td>M</td>\n",
       "      <td>B</td>\n",
       "      <td>2023-01-28</td>\n",
       "      <td>I</td>\n",
       "      <td>NaN</td>\n",
       "      <td>NaN</td>\n",
       "      <td>0.0</td>\n",
       "    </tr>\n",
       "    <tr>\n",
       "      <th>49078</th>\n",
       "      <td>1028525</td>\n",
       "      <td>FRA</td>\n",
       "      <td>F</td>\n",
       "      <td>B</td>\n",
       "      <td>2023-01-28</td>\n",
       "      <td>A</td>\n",
       "      <td>NaN</td>\n",
       "      <td>NaN</td>\n",
       "      <td>0.0</td>\n",
       "    </tr>\n",
       "    <tr>\n",
       "      <th>49079</th>\n",
       "      <td>1029872</td>\n",
       "      <td>USA</td>\n",
       "      <td>M</td>\n",
       "      <td>B</td>\n",
       "      <td>2023-01-30</td>\n",
       "      <td>A</td>\n",
       "      <td>2023-01-30</td>\n",
       "      <td>A</td>\n",
       "      <td>23.0</td>\n",
       "    </tr>\n",
       "    <tr>\n",
       "      <th>49080</th>\n",
       "      <td>1034053</td>\n",
       "      <td>DEU</td>\n",
       "      <td>F</td>\n",
       "      <td>A</td>\n",
       "      <td>2023-01-29</td>\n",
       "      <td>A</td>\n",
       "      <td>NaN</td>\n",
       "      <td>NaN</td>\n",
       "      <td>0.0</td>\n",
       "    </tr>\n",
       "    <tr>\n",
       "      <th>49081</th>\n",
       "      <td>1029565</td>\n",
       "      <td>BRA</td>\n",
       "      <td>M</td>\n",
       "      <td>A</td>\n",
       "      <td>2023-01-26</td>\n",
       "      <td>A</td>\n",
       "      <td>NaN</td>\n",
       "      <td>NaN</td>\n",
       "      <td>0.0</td>\n",
       "    </tr>\n",
       "  </tbody>\n",
       "</table>\n",
       "<p>49082 rows × 9 columns</p>\n",
       "</div>"
      ],
      "text/plain": [
       "            id country gender group     join_dt device          dt device.1   \n",
       "0      1010340     USA      F     B  2023-01-30      A         NaN      NaN  \\\n",
       "1      1020252     BRA      M     A  2023-01-27      A         NaN      NaN   \n",
       "2      1017309     BRA      M     A  2023-01-28      A         NaN      NaN   \n",
       "3      1002379     BRA      F     A  2023-02-03      A         NaN      NaN   \n",
       "4      1004713     TUR    NaN     B  2023-01-31      A         NaN      NaN   \n",
       "...        ...     ...    ...   ...         ...    ...         ...      ...   \n",
       "49077  1048582     GBR      M     B  2023-01-28      I         NaN      NaN   \n",
       "49078  1028525     FRA      F     B  2023-01-28      A         NaN      NaN   \n",
       "49079  1029872     USA      M     B  2023-01-30      A  2023-01-30        A   \n",
       "49080  1034053     DEU      F     A  2023-01-29      A         NaN      NaN   \n",
       "49081  1029565     BRA      M     A  2023-01-26      A         NaN      NaN   \n",
       "\n",
       "       spent  \n",
       "0        0.0  \n",
       "1        0.0  \n",
       "2        0.0  \n",
       "3        0.0  \n",
       "4        0.0  \n",
       "...      ...  \n",
       "49077    0.0  \n",
       "49078    0.0  \n",
       "49079   23.0  \n",
       "49080    0.0  \n",
       "49081    0.0  \n",
       "\n",
       "[49082 rows x 9 columns]"
      ]
     },
     "execution_count": 6,
     "metadata": {},
     "output_type": "execute_result"
    }
   ],
   "source": [
    "df"
   ]
  },
  {
   "cell_type": "code",
   "execution_count": 8,
   "id": "a60f094c",
   "metadata": {},
   "outputs": [
    {
     "data": {
      "text/plain": [
       "group\n",
       "B    24680\n",
       "A    24402\n",
       "Name: count, dtype: int64"
      ]
     },
     "execution_count": 8,
     "metadata": {},
     "output_type": "execute_result"
    }
   ],
   "source": [
    "df.group.value_counts()"
   ]
  },
  {
   "cell_type": "code",
   "execution_count": 11,
   "id": "8710107f",
   "metadata": {},
   "outputs": [],
   "source": [
    "mean1 = df['spent'].mean()"
   ]
  },
  {
   "cell_type": "code",
   "execution_count": 12,
   "id": "55332556",
   "metadata": {},
   "outputs": [
    {
     "data": {
      "text/plain": [
       "3.3731557380217194"
      ]
     },
     "execution_count": 12,
     "metadata": {},
     "output_type": "execute_result"
    }
   ],
   "source": [
    "mean1"
   ]
  },
  {
   "cell_type": "code",
   "execution_count": 13,
   "id": "13f69ac8",
   "metadata": {},
   "outputs": [],
   "source": [
    "sum1 = df['spent'].sum()"
   ]
  },
  {
   "cell_type": "code",
   "execution_count": 14,
   "id": "6c429dce",
   "metadata": {},
   "outputs": [
    {
     "data": {
      "text/plain": [
       "165561.22993358204"
      ]
     },
     "execution_count": 14,
     "metadata": {},
     "output_type": "execute_result"
    }
   ],
   "source": [
    "sum1"
   ]
  },
  {
   "cell_type": "code",
   "execution_count": 15,
   "id": "e658f694",
   "metadata": {},
   "outputs": [],
   "source": [
    "\n",
    "max1 = df['spent'].max()\n",
    "min1 = df['spent'].min()\n",
    "count1 = df['spent'].count()\n",
    "median1 = df['spent'].median() \n",
    "std1 = df['spent'].std() \n",
    "var1 = df['spent'].var()  "
   ]
  },
  {
   "cell_type": "code",
   "execution_count": 16,
   "id": "a460bd85",
   "metadata": {},
   "outputs": [
    {
     "data": {
      "text/plain": [
       "0.0"
      ]
     },
     "execution_count": 16,
     "metadata": {},
     "output_type": "execute_result"
    }
   ],
   "source": [
    "median1\n"
   ]
  },
  {
   "cell_type": "code",
   "execution_count": null,
   "id": "82cec3ad",
   "metadata": {},
   "outputs": [],
   "source": [
    "std1"
   ]
  },
  {
   "cell_type": "code",
   "execution_count": null,
   "id": "5df1bee5",
   "metadata": {},
   "outputs": [],
   "source": [
    "groupby_count1 = df.groupby(['id'],['group'])['spent']"
   ]
  },
  {
   "cell_type": "code",
   "execution_count": null,
   "id": "904c3f27",
   "metadata": {},
   "outputs": [],
   "source": [
    "groupby_count1.mean()"
   ]
  },
  {
   "cell_type": "code",
   "execution_count": null,
   "id": "012358fd",
   "metadata": {},
   "outputs": [],
   "source": []
  }
 ],
 "metadata": {
  "kernelspec": {
   "display_name": "Python 3 (ipykernel)",
   "language": "python",
   "name": "python3"
  },
  "language_info": {
   "codemirror_mode": {
    "name": "ipython",
    "version": 3
   },
   "file_extension": ".py",
   "mimetype": "text/x-python",
   "name": "python",
   "nbconvert_exporter": "python",
   "pygments_lexer": "ipython3",
   "version": "3.11.2"
  }
 },
 "nbformat": 4,
 "nbformat_minor": 5
}
