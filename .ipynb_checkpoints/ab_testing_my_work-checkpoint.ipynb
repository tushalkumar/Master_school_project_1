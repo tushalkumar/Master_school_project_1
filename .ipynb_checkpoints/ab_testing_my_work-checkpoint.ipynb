{
 "cells": [
  {
   "cell_type": "code",
   "execution_count": 1,
   "id": "579f0e11",
   "metadata": {},
   "outputs": [],
   "source": [
    "import pandas as pd\n",
    "import numpy as np"
   ]
  },
  {
   "cell_type": "code",
   "execution_count": null,
   "id": "dffd0ee5",
   "metadata": {},
   "outputs": [],
   "source": [
    "df  = pd.read_csv('/content/sample_data/Master_project_ab_testing.csv')"
   ]
  },
  {
   "cell_type": "code",
   "execution_count": 2,
   "id": "c53c76bc",
   "metadata": {},
   "outputs": [],
   "source": [
    "df  = pd.read_csv('Master_project_ab_testing.csv')"
   ]
  },
  {
   "cell_type": "code",
   "execution_count": 3,
   "id": "bcca6040",
   "metadata": {},
   "outputs": [
    {
     "data": {
      "text/html": [
       "<div>\n",
       "<style scoped>\n",
       "    .dataframe tbody tr th:only-of-type {\n",
       "        vertical-align: middle;\n",
       "    }\n",
       "\n",
       "    .dataframe tbody tr th {\n",
       "        vertical-align: top;\n",
       "    }\n",
       "\n",
       "    .dataframe thead th {\n",
       "        text-align: right;\n",
       "    }\n",
       "</style>\n",
       "<table border=\"1\" class=\"dataframe\">\n",
       "  <thead>\n",
       "    <tr style=\"text-align: right;\">\n",
       "      <th></th>\n",
       "      <th>id</th>\n",
       "      <th>country</th>\n",
       "      <th>gender</th>\n",
       "      <th>group</th>\n",
       "      <th>join_dt</th>\n",
       "      <th>device</th>\n",
       "      <th>dt</th>\n",
       "      <th>device.1</th>\n",
       "      <th>spent</th>\n",
       "    </tr>\n",
       "  </thead>\n",
       "  <tbody>\n",
       "    <tr>\n",
       "      <th>0</th>\n",
       "      <td>1010340</td>\n",
       "      <td>USA</td>\n",
       "      <td>F</td>\n",
       "      <td>B</td>\n",
       "      <td>2023-01-30</td>\n",
       "      <td>A</td>\n",
       "      <td>NaN</td>\n",
       "      <td>NaN</td>\n",
       "      <td>0.0</td>\n",
       "    </tr>\n",
       "    <tr>\n",
       "      <th>1</th>\n",
       "      <td>1020252</td>\n",
       "      <td>BRA</td>\n",
       "      <td>M</td>\n",
       "      <td>A</td>\n",
       "      <td>2023-01-27</td>\n",
       "      <td>A</td>\n",
       "      <td>NaN</td>\n",
       "      <td>NaN</td>\n",
       "      <td>0.0</td>\n",
       "    </tr>\n",
       "    <tr>\n",
       "      <th>2</th>\n",
       "      <td>1017309</td>\n",
       "      <td>BRA</td>\n",
       "      <td>M</td>\n",
       "      <td>A</td>\n",
       "      <td>2023-01-28</td>\n",
       "      <td>A</td>\n",
       "      <td>NaN</td>\n",
       "      <td>NaN</td>\n",
       "      <td>0.0</td>\n",
       "    </tr>\n",
       "    <tr>\n",
       "      <th>3</th>\n",
       "      <td>1002379</td>\n",
       "      <td>BRA</td>\n",
       "      <td>F</td>\n",
       "      <td>A</td>\n",
       "      <td>2023-02-03</td>\n",
       "      <td>A</td>\n",
       "      <td>NaN</td>\n",
       "      <td>NaN</td>\n",
       "      <td>0.0</td>\n",
       "    </tr>\n",
       "    <tr>\n",
       "      <th>4</th>\n",
       "      <td>1004713</td>\n",
       "      <td>TUR</td>\n",
       "      <td>NaN</td>\n",
       "      <td>B</td>\n",
       "      <td>2023-01-31</td>\n",
       "      <td>A</td>\n",
       "      <td>NaN</td>\n",
       "      <td>NaN</td>\n",
       "      <td>0.0</td>\n",
       "    </tr>\n",
       "    <tr>\n",
       "      <th>...</th>\n",
       "      <td>...</td>\n",
       "      <td>...</td>\n",
       "      <td>...</td>\n",
       "      <td>...</td>\n",
       "      <td>...</td>\n",
       "      <td>...</td>\n",
       "      <td>...</td>\n",
       "      <td>...</td>\n",
       "      <td>...</td>\n",
       "    </tr>\n",
       "    <tr>\n",
       "      <th>49077</th>\n",
       "      <td>1048582</td>\n",
       "      <td>GBR</td>\n",
       "      <td>M</td>\n",
       "      <td>B</td>\n",
       "      <td>2023-01-28</td>\n",
       "      <td>I</td>\n",
       "      <td>NaN</td>\n",
       "      <td>NaN</td>\n",
       "      <td>0.0</td>\n",
       "    </tr>\n",
       "    <tr>\n",
       "      <th>49078</th>\n",
       "      <td>1028525</td>\n",
       "      <td>FRA</td>\n",
       "      <td>F</td>\n",
       "      <td>B</td>\n",
       "      <td>2023-01-28</td>\n",
       "      <td>A</td>\n",
       "      <td>NaN</td>\n",
       "      <td>NaN</td>\n",
       "      <td>0.0</td>\n",
       "    </tr>\n",
       "    <tr>\n",
       "      <th>49079</th>\n",
       "      <td>1029872</td>\n",
       "      <td>USA</td>\n",
       "      <td>M</td>\n",
       "      <td>B</td>\n",
       "      <td>2023-01-30</td>\n",
       "      <td>A</td>\n",
       "      <td>2023-01-30</td>\n",
       "      <td>A</td>\n",
       "      <td>23.0</td>\n",
       "    </tr>\n",
       "    <tr>\n",
       "      <th>49080</th>\n",
       "      <td>1034053</td>\n",
       "      <td>DEU</td>\n",
       "      <td>F</td>\n",
       "      <td>A</td>\n",
       "      <td>2023-01-29</td>\n",
       "      <td>A</td>\n",
       "      <td>NaN</td>\n",
       "      <td>NaN</td>\n",
       "      <td>0.0</td>\n",
       "    </tr>\n",
       "    <tr>\n",
       "      <th>49081</th>\n",
       "      <td>1029565</td>\n",
       "      <td>BRA</td>\n",
       "      <td>M</td>\n",
       "      <td>A</td>\n",
       "      <td>2023-01-26</td>\n",
       "      <td>A</td>\n",
       "      <td>NaN</td>\n",
       "      <td>NaN</td>\n",
       "      <td>0.0</td>\n",
       "    </tr>\n",
       "  </tbody>\n",
       "</table>\n",
       "<p>49082 rows × 9 columns</p>\n",
       "</div>"
      ],
      "text/plain": [
       "            id country gender group     join_dt device          dt device.1   \n",
       "0      1010340     USA      F     B  2023-01-30      A         NaN      NaN  \\\n",
       "1      1020252     BRA      M     A  2023-01-27      A         NaN      NaN   \n",
       "2      1017309     BRA      M     A  2023-01-28      A         NaN      NaN   \n",
       "3      1002379     BRA      F     A  2023-02-03      A         NaN      NaN   \n",
       "4      1004713     TUR    NaN     B  2023-01-31      A         NaN      NaN   \n",
       "...        ...     ...    ...   ...         ...    ...         ...      ...   \n",
       "49077  1048582     GBR      M     B  2023-01-28      I         NaN      NaN   \n",
       "49078  1028525     FRA      F     B  2023-01-28      A         NaN      NaN   \n",
       "49079  1029872     USA      M     B  2023-01-30      A  2023-01-30        A   \n",
       "49080  1034053     DEU      F     A  2023-01-29      A         NaN      NaN   \n",
       "49081  1029565     BRA      M     A  2023-01-26      A         NaN      NaN   \n",
       "\n",
       "       spent  \n",
       "0        0.0  \n",
       "1        0.0  \n",
       "2        0.0  \n",
       "3        0.0  \n",
       "4        0.0  \n",
       "...      ...  \n",
       "49077    0.0  \n",
       "49078    0.0  \n",
       "49079   23.0  \n",
       "49080    0.0  \n",
       "49081    0.0  \n",
       "\n",
       "[49082 rows x 9 columns]"
      ]
     },
     "execution_count": 3,
     "metadata": {},
     "output_type": "execute_result"
    }
   ],
   "source": [
    "df"
   ]
  },
  {
   "cell_type": "code",
   "execution_count": 30,
   "id": "b78f55fe",
   "metadata": {},
   "outputs": [
    {
     "ename": "KeyError",
     "evalue": "'id'",
     "output_type": "error",
     "traceback": [
      "\u001b[1;31m---------------------------------------------------------------------------\u001b[0m",
      "\u001b[1;31mKeyError\u001b[0m                                  Traceback (most recent call last)",
      "Cell \u001b[1;32mIn[30], line 1\u001b[0m\n\u001b[1;32m----> 1\u001b[0m \u001b[43mdf\u001b[49m\u001b[43m[\u001b[49m\u001b[43m[\u001b[49m\u001b[38;5;124;43m'\u001b[39;49m\u001b[38;5;124;43mcountry\u001b[39;49m\u001b[38;5;124;43m'\u001b[39;49m\u001b[43m,\u001b[49m\u001b[43m \u001b[49m\u001b[38;5;124;43m'\u001b[39;49m\u001b[38;5;124;43mgroup\u001b[39;49m\u001b[38;5;124;43m'\u001b[39;49m\u001b[43m,\u001b[49m\u001b[38;5;124;43m'\u001b[39;49m\u001b[38;5;124;43mspent\u001b[39;49m\u001b[38;5;124;43m'\u001b[39;49m\u001b[43m]\u001b[49m\u001b[43m]\u001b[49m\u001b[38;5;241;43m.\u001b[39;49m\u001b[43mgroupby\u001b[49m\u001b[43m(\u001b[49m\u001b[43m[\u001b[49m\u001b[38;5;124;43m'\u001b[39;49m\u001b[38;5;124;43mid\u001b[39;49m\u001b[38;5;124;43m'\u001b[39;49m\u001b[43m]\u001b[49m\u001b[43m)\u001b[49m\u001b[38;5;241m.\u001b[39magg([\u001b[38;5;124m'\u001b[39m\u001b[38;5;124mmean\u001b[39m\u001b[38;5;124m'\u001b[39m, \u001b[38;5;124m'\u001b[39m\u001b[38;5;124mstd\u001b[39m\u001b[38;5;124m'\u001b[39m, \u001b[38;5;124m'\u001b[39m\u001b[38;5;124mcount\u001b[39m\u001b[38;5;124m'\u001b[39m])\n",
      "File \u001b[1;32m~\\AppData\\Local\\Programs\\Python\\Python311\\Lib\\site-packages\\pandas\\core\\frame.py:8262\u001b[0m, in \u001b[0;36mDataFrame.groupby\u001b[1;34m(self, by, axis, level, as_index, sort, group_keys, observed, dropna)\u001b[0m\n\u001b[0;32m   8259\u001b[0m     \u001b[38;5;28;01mraise\u001b[39;00m \u001b[38;5;167;01mTypeError\u001b[39;00m(\u001b[38;5;124m\"\u001b[39m\u001b[38;5;124mYou have to supply one of \u001b[39m\u001b[38;5;124m'\u001b[39m\u001b[38;5;124mby\u001b[39m\u001b[38;5;124m'\u001b[39m\u001b[38;5;124m and \u001b[39m\u001b[38;5;124m'\u001b[39m\u001b[38;5;124mlevel\u001b[39m\u001b[38;5;124m'\u001b[39m\u001b[38;5;124m\"\u001b[39m)\n\u001b[0;32m   8260\u001b[0m axis \u001b[38;5;241m=\u001b[39m \u001b[38;5;28mself\u001b[39m\u001b[38;5;241m.\u001b[39m_get_axis_number(axis)\n\u001b[1;32m-> 8262\u001b[0m \u001b[38;5;28;01mreturn\u001b[39;00m \u001b[43mDataFrameGroupBy\u001b[49m\u001b[43m(\u001b[49m\n\u001b[0;32m   8263\u001b[0m \u001b[43m    \u001b[49m\u001b[43mobj\u001b[49m\u001b[38;5;241;43m=\u001b[39;49m\u001b[38;5;28;43mself\u001b[39;49m\u001b[43m,\u001b[49m\n\u001b[0;32m   8264\u001b[0m \u001b[43m    \u001b[49m\u001b[43mkeys\u001b[49m\u001b[38;5;241;43m=\u001b[39;49m\u001b[43mby\u001b[49m\u001b[43m,\u001b[49m\n\u001b[0;32m   8265\u001b[0m \u001b[43m    \u001b[49m\u001b[43maxis\u001b[49m\u001b[38;5;241;43m=\u001b[39;49m\u001b[43maxis\u001b[49m\u001b[43m,\u001b[49m\n\u001b[0;32m   8266\u001b[0m \u001b[43m    \u001b[49m\u001b[43mlevel\u001b[49m\u001b[38;5;241;43m=\u001b[39;49m\u001b[43mlevel\u001b[49m\u001b[43m,\u001b[49m\n\u001b[0;32m   8267\u001b[0m \u001b[43m    \u001b[49m\u001b[43mas_index\u001b[49m\u001b[38;5;241;43m=\u001b[39;49m\u001b[43mas_index\u001b[49m\u001b[43m,\u001b[49m\n\u001b[0;32m   8268\u001b[0m \u001b[43m    \u001b[49m\u001b[43msort\u001b[49m\u001b[38;5;241;43m=\u001b[39;49m\u001b[43msort\u001b[49m\u001b[43m,\u001b[49m\n\u001b[0;32m   8269\u001b[0m \u001b[43m    \u001b[49m\u001b[43mgroup_keys\u001b[49m\u001b[38;5;241;43m=\u001b[39;49m\u001b[43mgroup_keys\u001b[49m\u001b[43m,\u001b[49m\n\u001b[0;32m   8270\u001b[0m \u001b[43m    \u001b[49m\u001b[43mobserved\u001b[49m\u001b[38;5;241;43m=\u001b[39;49m\u001b[43mobserved\u001b[49m\u001b[43m,\u001b[49m\n\u001b[0;32m   8271\u001b[0m \u001b[43m    \u001b[49m\u001b[43mdropna\u001b[49m\u001b[38;5;241;43m=\u001b[39;49m\u001b[43mdropna\u001b[49m\u001b[43m,\u001b[49m\n\u001b[0;32m   8272\u001b[0m \u001b[43m\u001b[49m\u001b[43m)\u001b[49m\n",
      "File \u001b[1;32m~\\AppData\\Local\\Programs\\Python\\Python311\\Lib\\site-packages\\pandas\\core\\groupby\\groupby.py:931\u001b[0m, in \u001b[0;36mGroupBy.__init__\u001b[1;34m(self, obj, keys, axis, level, grouper, exclusions, selection, as_index, sort, group_keys, observed, dropna)\u001b[0m\n\u001b[0;32m    928\u001b[0m \u001b[38;5;28mself\u001b[39m\u001b[38;5;241m.\u001b[39mdropna \u001b[38;5;241m=\u001b[39m dropna\n\u001b[0;32m    930\u001b[0m \u001b[38;5;28;01mif\u001b[39;00m grouper \u001b[38;5;129;01mis\u001b[39;00m \u001b[38;5;28;01mNone\u001b[39;00m:\n\u001b[1;32m--> 931\u001b[0m     grouper, exclusions, obj \u001b[38;5;241m=\u001b[39m \u001b[43mget_grouper\u001b[49m\u001b[43m(\u001b[49m\n\u001b[0;32m    932\u001b[0m \u001b[43m        \u001b[49m\u001b[43mobj\u001b[49m\u001b[43m,\u001b[49m\n\u001b[0;32m    933\u001b[0m \u001b[43m        \u001b[49m\u001b[43mkeys\u001b[49m\u001b[43m,\u001b[49m\n\u001b[0;32m    934\u001b[0m \u001b[43m        \u001b[49m\u001b[43maxis\u001b[49m\u001b[38;5;241;43m=\u001b[39;49m\u001b[43maxis\u001b[49m\u001b[43m,\u001b[49m\n\u001b[0;32m    935\u001b[0m \u001b[43m        \u001b[49m\u001b[43mlevel\u001b[49m\u001b[38;5;241;43m=\u001b[39;49m\u001b[43mlevel\u001b[49m\u001b[43m,\u001b[49m\n\u001b[0;32m    936\u001b[0m \u001b[43m        \u001b[49m\u001b[43msort\u001b[49m\u001b[38;5;241;43m=\u001b[39;49m\u001b[43msort\u001b[49m\u001b[43m,\u001b[49m\n\u001b[0;32m    937\u001b[0m \u001b[43m        \u001b[49m\u001b[43mobserved\u001b[49m\u001b[38;5;241;43m=\u001b[39;49m\u001b[43mobserved\u001b[49m\u001b[43m,\u001b[49m\n\u001b[0;32m    938\u001b[0m \u001b[43m        \u001b[49m\u001b[43mdropna\u001b[49m\u001b[38;5;241;43m=\u001b[39;49m\u001b[38;5;28;43mself\u001b[39;49m\u001b[38;5;241;43m.\u001b[39;49m\u001b[43mdropna\u001b[49m\u001b[43m,\u001b[49m\n\u001b[0;32m    939\u001b[0m \u001b[43m    \u001b[49m\u001b[43m)\u001b[49m\n\u001b[0;32m    941\u001b[0m \u001b[38;5;28mself\u001b[39m\u001b[38;5;241m.\u001b[39mobj \u001b[38;5;241m=\u001b[39m obj\n\u001b[0;32m    942\u001b[0m \u001b[38;5;28mself\u001b[39m\u001b[38;5;241m.\u001b[39maxis \u001b[38;5;241m=\u001b[39m obj\u001b[38;5;241m.\u001b[39m_get_axis_number(axis)\n",
      "File \u001b[1;32m~\\AppData\\Local\\Programs\\Python\\Python311\\Lib\\site-packages\\pandas\\core\\groupby\\grouper.py:985\u001b[0m, in \u001b[0;36mget_grouper\u001b[1;34m(obj, key, axis, level, sort, observed, validate, dropna)\u001b[0m\n\u001b[0;32m    983\u001b[0m         in_axis, level, gpr \u001b[38;5;241m=\u001b[39m \u001b[38;5;28;01mFalse\u001b[39;00m, gpr, \u001b[38;5;28;01mNone\u001b[39;00m\n\u001b[0;32m    984\u001b[0m     \u001b[38;5;28;01melse\u001b[39;00m:\n\u001b[1;32m--> 985\u001b[0m         \u001b[38;5;28;01mraise\u001b[39;00m \u001b[38;5;167;01mKeyError\u001b[39;00m(gpr)\n\u001b[0;32m    986\u001b[0m \u001b[38;5;28;01melif\u001b[39;00m \u001b[38;5;28misinstance\u001b[39m(gpr, Grouper) \u001b[38;5;129;01mand\u001b[39;00m gpr\u001b[38;5;241m.\u001b[39mkey \u001b[38;5;129;01mis\u001b[39;00m \u001b[38;5;129;01mnot\u001b[39;00m \u001b[38;5;28;01mNone\u001b[39;00m:\n\u001b[0;32m    987\u001b[0m     \u001b[38;5;66;03m# Add key to exclusions\u001b[39;00m\n\u001b[0;32m    988\u001b[0m     exclusions\u001b[38;5;241m.\u001b[39madd(gpr\u001b[38;5;241m.\u001b[39mkey)\n",
      "\u001b[1;31mKeyError\u001b[0m: 'id'"
     ]
    }
   ],
   "source": [
    "df[['country', 'group','spent']].groupby(['id']).agg(['mean', 'std', 'count'])"
   ]
  },
  {
   "cell_type": "code",
   "execution_count": 4,
   "id": "1dce4e5f",
   "metadata": {},
   "outputs": [],
   "source": [
    "df_aggregated = df.groupby(['id','group'])['spent'].sum()\n"
   ]
  },
  {
   "cell_type": "code",
   "execution_count": 28,
   "id": "876d83d9",
   "metadata": {},
   "outputs": [
    {
     "data": {
      "text/plain": [
       "id       group\n",
       "1000000  B        0.0\n",
       "1000001  A        0.0\n",
       "1000002  A        0.0\n",
       "1000003  B        0.0\n",
       "1000004  A        0.0\n",
       "                 ... \n",
       "1049995  B        0.0\n",
       "1049996  A        0.0\n",
       "1049997  B        0.0\n",
       "1049998  B        0.0\n",
       "1049999  B        0.0\n",
       "Name: spent, Length: 48943, dtype: float64"
      ]
     },
     "execution_count": 28,
     "metadata": {},
     "output_type": "execute_result"
    }
   ],
   "source": [
    "df_aggregated"
   ]
  },
  {
   "cell_type": "code",
   "execution_count": 6,
   "id": "f10149d0",
   "metadata": {},
   "outputs": [],
   "source": [
    "a = df.groupby('group')['id'].nunique()"
   ]
  },
  {
   "cell_type": "code",
   "execution_count": 7,
   "id": "54784ffc",
   "metadata": {},
   "outputs": [
    {
     "data": {
      "text/plain": [
       "group\n",
       "A    24343\n",
       "B    24600\n",
       "Name: id, dtype: int64"
      ]
     },
     "execution_count": 7,
     "metadata": {},
     "output_type": "execute_result"
    }
   ],
   "source": [
    "a\n"
   ]
  },
  {
   "cell_type": "code",
   "execution_count": 8,
   "id": "229bec16",
   "metadata": {},
   "outputs": [],
   "source": [
    "mean1 = a.mean()"
   ]
  },
  {
   "cell_type": "code",
   "execution_count": 9,
   "id": "2cf1714b",
   "metadata": {},
   "outputs": [
    {
     "data": {
      "text/plain": [
       "24471.5"
      ]
     },
     "execution_count": 9,
     "metadata": {},
     "output_type": "execute_result"
    }
   ],
   "source": [
    "mean1"
   ]
  },
  {
   "cell_type": "code",
   "execution_count": 10,
   "id": "e6a1a442",
   "metadata": {},
   "outputs": [],
   "source": [
    "sum1 = df['spent'].sum()"
   ]
  },
  {
   "cell_type": "code",
   "execution_count": 11,
   "id": "06cc417b",
   "metadata": {},
   "outputs": [
    {
     "data": {
      "text/plain": [
       "165561.22993358204"
      ]
     },
     "execution_count": 11,
     "metadata": {},
     "output_type": "execute_result"
    }
   ],
   "source": [
    "sum1"
   ]
  },
  {
   "cell_type": "code",
   "execution_count": 12,
   "id": "379e688b",
   "metadata": {},
   "outputs": [],
   "source": [
    "\n",
    "max1 = df['spent'].max()\n",
    "min1 = df['spent'].min()\n",
    "count1 = df['spent'].count()\n",
    "median1 = df['spent'].median() \n",
    "std1 = df['spent'].std() \n",
    "var1 = df['spent'].var()  "
   ]
  },
  {
   "cell_type": "code",
   "execution_count": 13,
   "id": "fe4fcf0a",
   "metadata": {},
   "outputs": [],
   "source": [
    "stats_spent = df_aggregated.groupby('group').agg(['mean', 'std', 'count', 'sum'])"
   ]
  },
  {
   "cell_type": "code",
   "execution_count": 14,
   "id": "80e7e066",
   "metadata": {},
   "outputs": [
    {
     "data": {
      "text/html": [
       "<div>\n",
       "<style scoped>\n",
       "    .dataframe tbody tr th:only-of-type {\n",
       "        vertical-align: middle;\n",
       "    }\n",
       "\n",
       "    .dataframe tbody tr th {\n",
       "        vertical-align: top;\n",
       "    }\n",
       "\n",
       "    .dataframe thead th {\n",
       "        text-align: right;\n",
       "    }\n",
       "</style>\n",
       "<table border=\"1\" class=\"dataframe\">\n",
       "  <thead>\n",
       "    <tr style=\"text-align: right;\">\n",
       "      <th></th>\n",
       "      <th>mean</th>\n",
       "      <th>std</th>\n",
       "      <th>count</th>\n",
       "      <th>sum</th>\n",
       "    </tr>\n",
       "    <tr>\n",
       "      <th>group</th>\n",
       "      <th></th>\n",
       "      <th></th>\n",
       "      <th></th>\n",
       "      <th></th>\n",
       "    </tr>\n",
       "  </thead>\n",
       "  <tbody>\n",
       "    <tr>\n",
       "      <th>A</th>\n",
       "      <td>3.374518</td>\n",
       "      <td>25.936391</td>\n",
       "      <td>24343</td>\n",
       "      <td>82145.903065</td>\n",
       "    </tr>\n",
       "    <tr>\n",
       "      <th>B</th>\n",
       "      <td>3.390867</td>\n",
       "      <td>25.414110</td>\n",
       "      <td>24600</td>\n",
       "      <td>83415.326869</td>\n",
       "    </tr>\n",
       "  </tbody>\n",
       "</table>\n",
       "</div>"
      ],
      "text/plain": [
       "           mean        std  count           sum\n",
       "group                                          \n",
       "A      3.374518  25.936391  24343  82145.903065\n",
       "B      3.390867  25.414110  24600  83415.326869"
      ]
     },
     "execution_count": 14,
     "metadata": {},
     "output_type": "execute_result"
    }
   ],
   "source": [
    "stats_spent"
   ]
  },
  {
   "cell_type": "code",
   "execution_count": 15,
   "id": "1fb3f7eb",
   "metadata": {},
   "outputs": [],
   "source": [
    "count_a = stats_spent['count'][0]\n",
    "count_b = stats_spent['count'][1]"
   ]
  },
  {
   "cell_type": "code",
   "execution_count": 16,
   "id": "eb4c67a8",
   "metadata": {},
   "outputs": [],
   "source": [
    "mean_a = stats_spent['mean'][0]\n",
    "mean_b = stats_spent['mean'][1]"
   ]
  },
  {
   "cell_type": "code",
   "execution_count": 17,
   "id": "370726cd",
   "metadata": {},
   "outputs": [],
   "source": [
    "std_a = stats_spent['std'][0]\n",
    "std_b = stats_spent['std'][1]"
   ]
  },
  {
   "cell_type": "code",
   "execution_count": 23,
   "id": "2db99223",
   "metadata": {},
   "outputs": [],
   "source": [
    "CI_a = (mean_a - 1.96 * std_a/np.sqrt(count_a),mean_a + 1.96 * std_a/np.sqrt(count_a))"
   ]
  },
  {
   "cell_type": "code",
   "execution_count": 24,
   "id": "0e86412f",
   "metadata": {},
   "outputs": [
    {
     "data": {
      "text/plain": [
       "(3.0486978529298447, 3.7003390829278375)"
      ]
     },
     "execution_count": 24,
     "metadata": {},
     "output_type": "execute_result"
    }
   ],
   "source": [
    "CI_a"
   ]
  },
  {
   "cell_type": "code",
   "execution_count": 25,
   "id": "84f9b29d",
   "metadata": {},
   "outputs": [],
   "source": [
    "CI_b = (mean_b - 1.96 * std_b/np.sqrt(count_b),mean_b + 1.96 * std_b/np.sqrt(count_b))"
   ]
  },
  {
   "cell_type": "code",
   "execution_count": 26,
   "id": "e5d421dd",
   "metadata": {},
   "outputs": [
    {
     "data": {
      "text/plain": [
       "(3.0732794343971515, 3.7084544573744154)"
      ]
     },
     "execution_count": 26,
     "metadata": {},
     "output_type": "execute_result"
    }
   ],
   "source": [
    "CI_b"
   ]
  },
  {
   "cell_type": "code",
   "execution_count": null,
   "id": "16b34476",
   "metadata": {},
   "outputs": [],
   "source": []
  }
 ],
 "metadata": {
  "kernelspec": {
   "display_name": "Python 3 (ipykernel)",
   "language": "python",
   "name": "python3"
  },
  "language_info": {
   "codemirror_mode": {
    "name": "ipython",
    "version": 3
   },
   "file_extension": ".py",
   "mimetype": "text/x-python",
   "name": "python",
   "nbconvert_exporter": "python",
   "pygments_lexer": "ipython3",
   "version": "3.11.2"
  }
 },
 "nbformat": 4,
 "nbformat_minor": 5
}
