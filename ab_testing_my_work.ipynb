{
 "cells": [
  {
   "cell_type": "code",
   "execution_count": 61,
   "id": "579f0e11",
   "metadata": {},
   "outputs": [],
   "source": [
    "import pandas as pd\n",
    "import numpy as np"
   ]
  },
  {
   "cell_type": "code",
   "execution_count": 105,
   "id": "c53c76bc",
   "metadata": {},
   "outputs": [],
   "source": [
    "df  = pd.read_csv('Master_project_ab_testing.csv')"
   ]
  },
  {
   "cell_type": "code",
   "execution_count": 116,
   "id": "bcca6040",
   "metadata": {},
   "outputs": [
    {
     "data": {
      "text/html": [
       "<div>\n",
       "<style scoped>\n",
       "    .dataframe tbody tr th:only-of-type {\n",
       "        vertical-align: middle;\n",
       "    }\n",
       "\n",
       "    .dataframe tbody tr th {\n",
       "        vertical-align: top;\n",
       "    }\n",
       "\n",
       "    .dataframe thead th {\n",
       "        text-align: right;\n",
       "    }\n",
       "</style>\n",
       "<table border=\"1\" class=\"dataframe\">\n",
       "  <thead>\n",
       "    <tr style=\"text-align: right;\">\n",
       "      <th></th>\n",
       "      <th>id</th>\n",
       "      <th>country</th>\n",
       "      <th>gender</th>\n",
       "      <th>group</th>\n",
       "      <th>join_dt</th>\n",
       "      <th>device</th>\n",
       "      <th>dt</th>\n",
       "      <th>device.1</th>\n",
       "      <th>spent</th>\n",
       "    </tr>\n",
       "  </thead>\n",
       "  <tbody>\n",
       "    <tr>\n",
       "      <th>0</th>\n",
       "      <td>1010340</td>\n",
       "      <td>USA</td>\n",
       "      <td>F</td>\n",
       "      <td>B</td>\n",
       "      <td>2023-01-30</td>\n",
       "      <td>A</td>\n",
       "      <td>NaN</td>\n",
       "      <td>NaN</td>\n",
       "      <td>0.0</td>\n",
       "    </tr>\n",
       "    <tr>\n",
       "      <th>1</th>\n",
       "      <td>1020252</td>\n",
       "      <td>BRA</td>\n",
       "      <td>M</td>\n",
       "      <td>A</td>\n",
       "      <td>2023-01-27</td>\n",
       "      <td>A</td>\n",
       "      <td>NaN</td>\n",
       "      <td>NaN</td>\n",
       "      <td>0.0</td>\n",
       "    </tr>\n",
       "    <tr>\n",
       "      <th>2</th>\n",
       "      <td>1017309</td>\n",
       "      <td>BRA</td>\n",
       "      <td>M</td>\n",
       "      <td>A</td>\n",
       "      <td>2023-01-28</td>\n",
       "      <td>A</td>\n",
       "      <td>NaN</td>\n",
       "      <td>NaN</td>\n",
       "      <td>0.0</td>\n",
       "    </tr>\n",
       "    <tr>\n",
       "      <th>3</th>\n",
       "      <td>1002379</td>\n",
       "      <td>BRA</td>\n",
       "      <td>F</td>\n",
       "      <td>A</td>\n",
       "      <td>2023-02-03</td>\n",
       "      <td>A</td>\n",
       "      <td>NaN</td>\n",
       "      <td>NaN</td>\n",
       "      <td>0.0</td>\n",
       "    </tr>\n",
       "    <tr>\n",
       "      <th>4</th>\n",
       "      <td>1004713</td>\n",
       "      <td>TUR</td>\n",
       "      <td>NaN</td>\n",
       "      <td>B</td>\n",
       "      <td>2023-01-31</td>\n",
       "      <td>A</td>\n",
       "      <td>NaN</td>\n",
       "      <td>NaN</td>\n",
       "      <td>0.0</td>\n",
       "    </tr>\n",
       "    <tr>\n",
       "      <th>...</th>\n",
       "      <td>...</td>\n",
       "      <td>...</td>\n",
       "      <td>...</td>\n",
       "      <td>...</td>\n",
       "      <td>...</td>\n",
       "      <td>...</td>\n",
       "      <td>...</td>\n",
       "      <td>...</td>\n",
       "      <td>...</td>\n",
       "    </tr>\n",
       "    <tr>\n",
       "      <th>49077</th>\n",
       "      <td>1048582</td>\n",
       "      <td>GBR</td>\n",
       "      <td>M</td>\n",
       "      <td>B</td>\n",
       "      <td>2023-01-28</td>\n",
       "      <td>I</td>\n",
       "      <td>NaN</td>\n",
       "      <td>NaN</td>\n",
       "      <td>0.0</td>\n",
       "    </tr>\n",
       "    <tr>\n",
       "      <th>49078</th>\n",
       "      <td>1028525</td>\n",
       "      <td>FRA</td>\n",
       "      <td>F</td>\n",
       "      <td>B</td>\n",
       "      <td>2023-01-28</td>\n",
       "      <td>A</td>\n",
       "      <td>NaN</td>\n",
       "      <td>NaN</td>\n",
       "      <td>0.0</td>\n",
       "    </tr>\n",
       "    <tr>\n",
       "      <th>49079</th>\n",
       "      <td>1029872</td>\n",
       "      <td>USA</td>\n",
       "      <td>M</td>\n",
       "      <td>B</td>\n",
       "      <td>2023-01-30</td>\n",
       "      <td>A</td>\n",
       "      <td>2023-01-30</td>\n",
       "      <td>A</td>\n",
       "      <td>23.0</td>\n",
       "    </tr>\n",
       "    <tr>\n",
       "      <th>49080</th>\n",
       "      <td>1034053</td>\n",
       "      <td>DEU</td>\n",
       "      <td>F</td>\n",
       "      <td>A</td>\n",
       "      <td>2023-01-29</td>\n",
       "      <td>A</td>\n",
       "      <td>NaN</td>\n",
       "      <td>NaN</td>\n",
       "      <td>0.0</td>\n",
       "    </tr>\n",
       "    <tr>\n",
       "      <th>49081</th>\n",
       "      <td>1029565</td>\n",
       "      <td>BRA</td>\n",
       "      <td>M</td>\n",
       "      <td>A</td>\n",
       "      <td>2023-01-26</td>\n",
       "      <td>A</td>\n",
       "      <td>NaN</td>\n",
       "      <td>NaN</td>\n",
       "      <td>0.0</td>\n",
       "    </tr>\n",
       "  </tbody>\n",
       "</table>\n",
       "<p>49082 rows × 9 columns</p>\n",
       "</div>"
      ],
      "text/plain": [
       "            id country gender group     join_dt device          dt device.1   \n",
       "0      1010340     USA      F     B  2023-01-30      A         NaN      NaN  \\\n",
       "1      1020252     BRA      M     A  2023-01-27      A         NaN      NaN   \n",
       "2      1017309     BRA      M     A  2023-01-28      A         NaN      NaN   \n",
       "3      1002379     BRA      F     A  2023-02-03      A         NaN      NaN   \n",
       "4      1004713     TUR    NaN     B  2023-01-31      A         NaN      NaN   \n",
       "...        ...     ...    ...   ...         ...    ...         ...      ...   \n",
       "49077  1048582     GBR      M     B  2023-01-28      I         NaN      NaN   \n",
       "49078  1028525     FRA      F     B  2023-01-28      A         NaN      NaN   \n",
       "49079  1029872     USA      M     B  2023-01-30      A  2023-01-30        A   \n",
       "49080  1034053     DEU      F     A  2023-01-29      A         NaN      NaN   \n",
       "49081  1029565     BRA      M     A  2023-01-26      A         NaN      NaN   \n",
       "\n",
       "       spent  \n",
       "0        0.0  \n",
       "1        0.0  \n",
       "2        0.0  \n",
       "3        0.0  \n",
       "4        0.0  \n",
       "...      ...  \n",
       "49077    0.0  \n",
       "49078    0.0  \n",
       "49079   23.0  \n",
       "49080    0.0  \n",
       "49081    0.0  \n",
       "\n",
       "[49082 rows x 9 columns]"
      ]
     },
     "execution_count": 116,
     "metadata": {},
     "output_type": "execute_result"
    }
   ],
   "source": [
    "df"
   ]
  },
  {
   "cell_type": "code",
   "execution_count": 153,
   "id": "2e5da082",
   "metadata": {},
   "outputs": [],
   "source": [
    "df_aggregated = df.groupby(['id','group'])['spent'].sum()\n"
   ]
  },
  {
   "cell_type": "code",
   "execution_count": 154,
   "id": "7512bc3c",
   "metadata": {},
   "outputs": [
    {
     "data": {
      "text/plain": [
       "id       group\n",
       "1000000  B        0.0\n",
       "1000001  A        0.0\n",
       "1000002  A        0.0\n",
       "1000003  B        0.0\n",
       "1000004  A        0.0\n",
       "                 ... \n",
       "1049995  B        0.0\n",
       "1049996  A        0.0\n",
       "1049997  B        0.0\n",
       "1049998  B        0.0\n",
       "1049999  B        0.0\n",
       "Name: spent, Length: 48943, dtype: float64"
      ]
     },
     "execution_count": 154,
     "metadata": {},
     "output_type": "execute_result"
    }
   ],
   "source": [
    "df_aggregated"
   ]
  },
  {
   "cell_type": "code",
   "execution_count": 146,
   "id": "f10149d0",
   "metadata": {},
   "outputs": [],
   "source": [
    "a = df.groupby('group')['id'].nunique()"
   ]
  },
  {
   "cell_type": "code",
   "execution_count": 140,
   "id": "a7c3e293",
   "metadata": {},
   "outputs": [
    {
     "data": {
      "text/plain": [
       "group\n",
       "A    24343\n",
       "B    24600\n",
       "Name: id, dtype: int64"
      ]
     },
     "execution_count": 140,
     "metadata": {},
     "output_type": "execute_result"
    }
   ],
   "source": [
    "a\n"
   ]
  },
  {
   "cell_type": "code",
   "execution_count": 55,
   "id": "229bec16",
   "metadata": {},
   "outputs": [],
   "source": [
    "mean1 = a.mean()"
   ]
  },
  {
   "cell_type": "code",
   "execution_count": 56,
   "id": "2cf1714b",
   "metadata": {},
   "outputs": [
    {
     "data": {
      "text/plain": [
       "24471.5"
      ]
     },
     "execution_count": 56,
     "metadata": {},
     "output_type": "execute_result"
    }
   ],
   "source": [
    "mean1"
   ]
  },
  {
   "cell_type": "code",
   "execution_count": 13,
   "id": "e6a1a442",
   "metadata": {},
   "outputs": [],
   "source": [
    "sum1 = df['spent'].sum()"
   ]
  },
  {
   "cell_type": "code",
   "execution_count": 14,
   "id": "06cc417b",
   "metadata": {},
   "outputs": [
    {
     "data": {
      "text/plain": [
       "165561.22993358204"
      ]
     },
     "execution_count": 14,
     "metadata": {},
     "output_type": "execute_result"
    }
   ],
   "source": [
    "sum1"
   ]
  },
  {
   "cell_type": "code",
   "execution_count": 15,
   "id": "379e688b",
   "metadata": {},
   "outputs": [],
   "source": [
    "\n",
    "max1 = df['spent'].max()\n",
    "min1 = df['spent'].min()\n",
    "count1 = df['spent'].count()\n",
    "median1 = df['spent'].median() \n",
    "std1 = df['spent'].std() \n",
    "var1 = df['spent'].var()  "
   ]
  },
  {
   "cell_type": "code",
   "execution_count": 164,
   "id": "fb101c0a",
   "metadata": {},
   "outputs": [],
   "source": [
    "stats_spent = df_aggregated.groupby('group').agg(['mean', 'std', 'count', 'sum'])"
   ]
  },
  {
   "cell_type": "code",
   "execution_count": 165,
   "id": "d5268f73",
   "metadata": {},
   "outputs": [
    {
     "data": {
      "text/html": [
       "<div>\n",
       "<style scoped>\n",
       "    .dataframe tbody tr th:only-of-type {\n",
       "        vertical-align: middle;\n",
       "    }\n",
       "\n",
       "    .dataframe tbody tr th {\n",
       "        vertical-align: top;\n",
       "    }\n",
       "\n",
       "    .dataframe thead th {\n",
       "        text-align: right;\n",
       "    }\n",
       "</style>\n",
       "<table border=\"1\" class=\"dataframe\">\n",
       "  <thead>\n",
       "    <tr style=\"text-align: right;\">\n",
       "      <th></th>\n",
       "      <th>mean</th>\n",
       "      <th>std</th>\n",
       "      <th>count</th>\n",
       "      <th>sum</th>\n",
       "    </tr>\n",
       "    <tr>\n",
       "      <th>group</th>\n",
       "      <th></th>\n",
       "      <th></th>\n",
       "      <th></th>\n",
       "      <th></th>\n",
       "    </tr>\n",
       "  </thead>\n",
       "  <tbody>\n",
       "    <tr>\n",
       "      <th>A</th>\n",
       "      <td>3.374518</td>\n",
       "      <td>25.936391</td>\n",
       "      <td>24343</td>\n",
       "      <td>82145.903065</td>\n",
       "    </tr>\n",
       "    <tr>\n",
       "      <th>B</th>\n",
       "      <td>3.390867</td>\n",
       "      <td>25.414110</td>\n",
       "      <td>24600</td>\n",
       "      <td>83415.326869</td>\n",
       "    </tr>\n",
       "  </tbody>\n",
       "</table>\n",
       "</div>"
      ],
      "text/plain": [
       "           mean        std  count           sum\n",
       "group                                          \n",
       "A      3.374518  25.936391  24343  82145.903065\n",
       "B      3.390867  25.414110  24600  83415.326869"
      ]
     },
     "execution_count": 165,
     "metadata": {},
     "output_type": "execute_result"
    }
   ],
   "source": [
    "stats_spent"
   ]
  },
  {
   "cell_type": "code",
   "execution_count": 173,
   "id": "399a4fc4",
   "metadata": {},
   "outputs": [],
   "source": [
    "count_a = stats_spent['count'][0]\n",
    "count_b = stats_spent['count'][1]"
   ]
  },
  {
   "cell_type": "code",
   "execution_count": 176,
   "id": "e960172b",
   "metadata": {},
   "outputs": [],
   "source": [
    "mean_a = stats_spent['mean'][0]\n",
    "mean_b = stats_spent['mean'][1]"
   ]
  },
  {
   "cell_type": "code",
   "execution_count": 177,
   "id": "ca440fe1",
   "metadata": {},
   "outputs": [],
   "source": [
    "std_a = stats_spent['std'][0]\n",
    "std_b = stats_spent['std'][1]"
   ]
  },
  {
   "cell_type": "code",
   "execution_count": 182,
   "id": "a8608270",
   "metadata": {},
   "outputs": [
    {
     "data": {
      "text/plain": [
       "(3.0486978529298447, 3.7003390829278375)"
      ]
     },
     "execution_count": 182,
     "metadata": {},
     "output_type": "execute_result"
    }
   ],
   "source": [
    "(mean_a - 1.96 * std_a/np.sqrt(count_a),mean_a + 1.96 * std_a/np.sqrt(count_a))"
   ]
  },
  {
   "cell_type": "code",
   "execution_count": null,
   "id": "6e49be8e",
   "metadata": {},
   "outputs": [],
   "source": []
  }
 ],
 "metadata": {
  "kernelspec": {
   "display_name": "Python 3 (ipykernel)",
   "language": "python",
   "name": "python3"
  },
  "language_info": {
   "codemirror_mode": {
    "name": "ipython",
    "version": 3
   },
   "file_extension": ".py",
   "mimetype": "text/x-python",
   "name": "python",
   "nbconvert_exporter": "python",
   "pygments_lexer": "ipython3",
   "version": "3.11.2"
  }
 },
 "nbformat": 4,
 "nbformat_minor": 5
}
