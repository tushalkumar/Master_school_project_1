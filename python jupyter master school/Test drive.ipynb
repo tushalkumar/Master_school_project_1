{
 "cells": [
  {
   "cell_type": "code",
   "execution_count": 306,
   "id": "c3873ac0-c257-4290-8f1b-bee2e1a5c5a0",
   "metadata": {
    "tags": []
   },
   "outputs": [],
   "source": []
  },
  {
   "cell_type": "code",
   "execution_count": 286,
   "id": "30b3d6fd-88a6-4473-9d7f-5f780e4d443d",
   "metadata": {
    "tags": []
   },
   "outputs": [],
   "source": [
    "# **Importing libraries**\n",
    "import pandas as pd\n",
    "import numpy as np"
   ]
  },
  {
   "cell_type": "code",
   "execution_count": 2,
   "id": "0947dc37-face-4bce-9013-720fe7ddde6a",
   "metadata": {
    "tags": []
   },
   "outputs": [
    {
     "ename": "NameError",
     "evalue": "name 'pd' is not defined",
     "output_type": "error",
     "traceback": [
      "\u001b[1;31m---------------------------------------------------------------------------\u001b[0m",
      "\u001b[1;31mNameError\u001b[0m                                 Traceback (most recent call last)",
      "Cell \u001b[1;32mIn[2], line 2\u001b[0m\n\u001b[0;32m      1\u001b[0m \u001b[38;5;66;03m#Uploading the query\u001b[39;00m\n\u001b[1;32m----> 2\u001b[0m df_join\u001b[38;5;241m=\u001b[39m\u001b[43mpd\u001b[49m\u001b[38;5;241m.\u001b[39mread_csv(\u001b[38;5;124m\"\u001b[39m\u001b[38;5;124mCSV - 1 day/query_results.csv\u001b[39m\u001b[38;5;124m\"\u001b[39m) \n\u001b[0;32m      3\u001b[0m df_join\n",
      "\u001b[1;31mNameError\u001b[0m: name 'pd' is not defined"
     ]
    }
   ],
   "source": [
    "#Uploading the query\n",
    "df_join=pd.read_csv(\"CSV - 1 day/query_results.csv\") \n",
    "df_join"
   ]
  },
  {
   "cell_type": "code",
   "execution_count": 266,
   "id": "96afa6ba-49d6-4bd2-9c75-c8ee710877a5",
   "metadata": {
    "collapsed": true,
    "jupyter": {
     "outputs_hidden": true
    },
    "tags": []
   },
   "outputs": [
    {
     "name": "stdout",
     "output_type": "stream",
     "text": [
      "Requirement already satisfied: seaborn in c:\\users\\user\\appdata\\roaming\\jupyterlab-desktop\\jlab_server\\lib\\site-packages (0.12.2)\n",
      "Requirement already satisfied: matplotlib!=3.6.1,>=3.1 in c:\\users\\user\\appdata\\roaming\\jupyterlab-desktop\\jlab_server\\lib\\site-packages (from seaborn) (3.6.2)\n",
      "Requirement already satisfied: pandas>=0.25 in c:\\users\\user\\appdata\\roaming\\jupyterlab-desktop\\jlab_server\\lib\\site-packages (from seaborn) (1.5.2)\n",
      "Requirement already satisfied: numpy!=1.24.0,>=1.17 in c:\\users\\user\\appdata\\roaming\\jupyterlab-desktop\\jlab_server\\lib\\site-packages (from seaborn) (1.23.5)\n",
      "Requirement already satisfied: fonttools>=4.22.0 in c:\\users\\user\\appdata\\roaming\\jupyterlab-desktop\\jlab_server\\lib\\site-packages (from matplotlib!=3.6.1,>=3.1->seaborn) (4.38.0)\n",
      "Requirement already satisfied: pyparsing>=2.2.1 in c:\\users\\user\\appdata\\roaming\\jupyterlab-desktop\\jlab_server\\lib\\site-packages (from matplotlib!=3.6.1,>=3.1->seaborn) (3.0.9)\n",
      "Requirement already satisfied: kiwisolver>=1.0.1 in c:\\users\\user\\appdata\\roaming\\jupyterlab-desktop\\jlab_server\\lib\\site-packages (from matplotlib!=3.6.1,>=3.1->seaborn) (1.4.4)\n",
      "Requirement already satisfied: packaging>=20.0 in c:\\users\\user\\appdata\\roaming\\jupyterlab-desktop\\jlab_server\\lib\\site-packages (from matplotlib!=3.6.1,>=3.1->seaborn) (22.0)\n",
      "Requirement already satisfied: python-dateutil>=2.7 in c:\\users\\user\\appdata\\roaming\\jupyterlab-desktop\\jlab_server\\lib\\site-packages (from matplotlib!=3.6.1,>=3.1->seaborn) (2.8.2)\n",
      "Requirement already satisfied: contourpy>=1.0.1 in c:\\users\\user\\appdata\\roaming\\jupyterlab-desktop\\jlab_server\\lib\\site-packages (from matplotlib!=3.6.1,>=3.1->seaborn) (1.0.6)\n",
      "Requirement already satisfied: pillow>=6.2.0 in c:\\users\\user\\appdata\\roaming\\jupyterlab-desktop\\jlab_server\\lib\\site-packages (from matplotlib!=3.6.1,>=3.1->seaborn) (9.2.0)\n",
      "Requirement already satisfied: cycler>=0.10 in c:\\users\\user\\appdata\\roaming\\jupyterlab-desktop\\jlab_server\\lib\\site-packages (from matplotlib!=3.6.1,>=3.1->seaborn) (0.11.0)\n",
      "Requirement already satisfied: pytz>=2020.1 in c:\\users\\user\\appdata\\roaming\\jupyterlab-desktop\\jlab_server\\lib\\site-packages (from pandas>=0.25->seaborn) (2022.6)\n",
      "Requirement already satisfied: six>=1.5 in c:\\users\\user\\appdata\\roaming\\jupyterlab-desktop\\jlab_server\\lib\\site-packages (from python-dateutil>=2.7->matplotlib!=3.6.1,>=3.1->seaborn) (1.16.0)\n"
     ]
    }
   ],
   "source": [
    "#Installing the library\n",
    "!pip install seaborn"
   ]
  },
  {
   "cell_type": "code",
   "execution_count": 267,
   "id": "abfb2b81-ef3e-460c-93ed-10ea0dd70d57",
   "metadata": {},
   "outputs": [],
   "source": [
    "import seaborn as sns"
   ]
  },
  {
   "cell_type": "code",
   "execution_count": 1,
   "id": "50d37d90-0236-4c65-ba3c-0eed89ba92f5",
   "metadata": {},
   "outputs": [
    {
     "ename": "NameError",
     "evalue": "name 'df_join' is not defined",
     "output_type": "error",
     "traceback": [
      "\u001b[1;31m---------------------------------------------------------------------------\u001b[0m",
      "\u001b[1;31mNameError\u001b[0m                                 Traceback (most recent call last)",
      "Cell \u001b[1;32mIn[1], line 12\u001b[0m\n\u001b[0;32m      4\u001b[0m         aggregated_data \u001b[38;5;241m=\u001b[39m df\u001b[38;5;241m.\u001b[39mgroupby(by \u001b[38;5;241m=\u001b[39m [test_factor, segment])[\u001b[38;5;124m'\u001b[39m\u001b[38;5;124mid\u001b[39m\u001b[38;5;124m'\u001b[39m]\u001b[38;5;241m.\u001b[39mcount()\u001b[38;5;241m.\u001b[39mreset_index()\n\u001b[0;32m      5\u001b[0m         sns\u001b[38;5;241m.\u001b[39mcatplot(x \u001b[38;5;241m=\u001b[39m segment, \n\u001b[0;32m      6\u001b[0m                     y \u001b[38;5;241m=\u001b[39m \u001b[38;5;124m'\u001b[39m\u001b[38;5;124mid\u001b[39m\u001b[38;5;124m'\u001b[39m, \n\u001b[0;32m      7\u001b[0m                     hue \u001b[38;5;241m=\u001b[39m test_factor, \n\u001b[1;32m   (...)\u001b[0m\n\u001b[0;32m     10\u001b[0m                     height \u001b[38;5;241m=\u001b[39m \u001b[38;5;241m4\u001b[39m, \n\u001b[0;32m     11\u001b[0m                     aspect \u001b[38;5;241m=\u001b[39m \u001b[38;5;241m1.5\u001b[39m) \n\u001b[1;32m---> 12\u001b[0m plot_segments_distribution(\u001b[43mdf_join\u001b[49m, \u001b[38;5;66;03m#dataframe\u001b[39;00m\n\u001b[0;32m     13\u001b[0m                            [\u001b[38;5;124m\"\u001b[39m\u001b[38;5;124mdevice_g\u001b[39m\u001b[38;5;124m\"\u001b[39m, \u001b[38;5;124m\"\u001b[39m\u001b[38;5;124mcountry\u001b[39m\u001b[38;5;124m\"\u001b[39m,\u001b[38;5;124m\"\u001b[39m\u001b[38;5;124mgender\u001b[39m\u001b[38;5;124m\"\u001b[39m,\u001b[38;5;124m\"\u001b[39m\u001b[38;5;124mconversion_flag\u001b[39m\u001b[38;5;124m\"\u001b[39m], \u001b[38;5;66;03m#segments\u001b[39;00m\n\u001b[0;32m     14\u001b[0m                            \u001b[38;5;124m\"\u001b[39m\u001b[38;5;124mtest_group\u001b[39m\u001b[38;5;124m\"\u001b[39m) \u001b[38;5;66;03m#test-factor\u001b[39;00m\n",
      "\u001b[1;31mNameError\u001b[0m: name 'df_join' is not defined"
     ]
    }
   ],
   "source": [
    "#Creating a fucntion that will build  graphs showing the detribution of A,B groups by feature\n",
    "def plot_segments_distribution(df, segment_columns, test_factor):\n",
    "    for segment in segment_columns:\n",
    "        aggregated_data = df.groupby(by = [test_factor, segment])['id'].count().reset_index()\n",
    "        sns.catplot(x = segment, \n",
    "                    y = 'id', \n",
    "                    hue = test_factor, \n",
    "                    data = aggregated_data, \n",
    "                    kind = \"bar\", \n",
    "                    height = 4, \n",
    "                    aspect = 1.5) \n",
    "plot_segments_distribution(df_join, #dataframe\n",
    "                           [\"device_g\", \"country\",\"gender\",\"conversion_flag\"], #segments\n",
    "                           \"test_group\") #test-factor"
   ]
  },
  {
   "cell_type": "code",
   "execution_count": 269,
   "id": "82ef2c43-6165-41f7-895c-1b653cdbc489",
   "metadata": {
    "tags": []
   },
   "outputs": [
    {
     "data": {
      "image/png": "[encoded data removed]",
      "text/plain": [
       "<Figure size 685.236x400 with 1 Axes>"
      ]
     },
     "metadata": {},
     "output_type": "display_data"
    },
    {
     "data": {
      "image/png": "[encoded data removed]",
      "text/plain": [
       "<Figure size 685.236x400 with 1 Axes>"
      ]
     },
     "metadata": {},
     "output_type": "display_data"
    },
    {
     "data": {
      "image/png": "[encoded data removed]",
      "text/plain": [
       "<Figure size 685.236x400 with 1 Axes>"
      ]
     },
     "metadata": {},
     "output_type": "display_data"
    },
    {
     "data": {
      "image/png": "[encoded data removed]",
      "text/plain": [
       "<Figure size 685.236x400 with 1 Axes>"
      ]
     },
     "metadata": {},
     "output_type": "display_data"
    }
   ],
   "source": [
    "plot_segments_distribution(df_join, #dataframe\n",
    "                           [\"device_g\", \"country\",\"gender\",\"conversion_flag\"], #segments\n",
    "                           \"test_group\") #test-factor"
   ]
  },
  {
   "cell_type": "code",
   "execution_count": 270,
   "id": "2603a400-08ac-48e9-9192-6668022d2330",
   "metadata": {
    "tags": []
   },
   "outputs": [],
   "source": [
    "#Nice! The destribution looks good"
   ]
  },
  {
   "cell_type": "code",
   "execution_count": 271,
   "id": "45015503-2f03-4a6e-94bf-1aa446b8652c",
   "metadata": {
    "collapsed": true,
    "jupyter": {
     "outputs_hidden": true
    },
    "tags": []
   },
   "outputs": [
    {
     "name": "stdout",
     "output_type": "stream",
     "text": [
      "Requirement already satisfied: statsmodels in c:\\users\\user\\appdata\\roaming\\jupyterlab-desktop\\jlab_server\\lib\\site-packages (0.13.5)\n",
      "Requirement already satisfied: scipy>=1.3 in c:\\users\\user\\appdata\\roaming\\jupyterlab-desktop\\jlab_server\\lib\\site-packages (from statsmodels) (1.9.3)\n",
      "Requirement already satisfied: packaging>=21.3 in c:\\users\\user\\appdata\\roaming\\jupyterlab-desktop\\jlab_server\\lib\\site-packages (from statsmodels) (22.0)\n",
      "Requirement already satisfied: pandas>=0.25 in c:\\users\\user\\appdata\\roaming\\jupyterlab-desktop\\jlab_server\\lib\\site-packages (from statsmodels) (1.5.2)\n",
      "Requirement already satisfied: numpy>=1.17 in c:\\users\\user\\appdata\\roaming\\jupyterlab-desktop\\jlab_server\\lib\\site-packages (from statsmodels) (1.23.5)\n",
      "Requirement already satisfied: patsy>=0.5.2 in c:\\users\\user\\appdata\\roaming\\jupyterlab-desktop\\jlab_server\\lib\\site-packages (from statsmodels) (0.5.3)\n",
      "Requirement already satisfied: pytz>=2020.1 in c:\\users\\user\\appdata\\roaming\\jupyterlab-desktop\\jlab_server\\lib\\site-packages (from pandas>=0.25->statsmodels) (2022.6)\n",
      "Requirement already satisfied: python-dateutil>=2.8.1 in c:\\users\\user\\appdata\\roaming\\jupyterlab-desktop\\jlab_server\\lib\\site-packages (from pandas>=0.25->statsmodels) (2.8.2)\n",
      "Requirement already satisfied: six in c:\\users\\user\\appdata\\roaming\\jupyterlab-desktop\\jlab_server\\lib\\site-packages (from patsy>=0.5.2->statsmodels) (1.16.0)\n"
     ]
    }
   ],
   "source": [
    "## Using the Chi-square test for conversion\n",
    "!pip install statsmodels"
   ]
  },
  {
   "cell_type": "code",
   "execution_count": 301,
   "id": "ad9c9c03-41e4-4042-8594-c8b79864699e",
   "metadata": {},
   "outputs": [
    {
     "data": {
      "text/html": [
       "<div>\n",
       "<style scoped>\n",
       "    .dataframe tbody tr th:only-of-type {\n",
       "        vertical-align: middle;\n",
       "    }\n",
       "\n",
       "    .dataframe tbody tr th {\n",
       "        vertical-align: top;\n",
       "    }\n",
       "\n",
       "    .dataframe thead th {\n",
       "        text-align: right;\n",
       "    }\n",
       "</style>\n",
       "<table border=\"1\" class=\"dataframe\">\n",
       "  <thead>\n",
       "    <tr style=\"text-align: right;\">\n",
       "      <th></th>\n",
       "      <th>test_group</th>\n",
       "      <th>id</th>\n",
       "      <th>conversion_flag</th>\n",
       "      <th>conversion_rate</th>\n",
       "    </tr>\n",
       "  </thead>\n",
       "  <tbody>\n",
       "    <tr>\n",
       "      <th>0</th>\n",
       "      <td>A</td>\n",
       "      <td>24343</td>\n",
       "      <td>955</td>\n",
       "      <td>3.92</td>\n",
       "    </tr>\n",
       "    <tr>\n",
       "      <th>1</th>\n",
       "      <td>B</td>\n",
       "      <td>24600</td>\n",
       "      <td>1139</td>\n",
       "      <td>4.63</td>\n",
       "    </tr>\n",
       "  </tbody>\n",
       "</table>\n",
       "</div>"
      ],
      "text/plain": [
       "  test_group     id  conversion_flag  conversion_rate\n",
       "0          A  24343              955             3.92\n",
       "1          B  24600             1139             4.63"
      ]
     },
     "execution_count": 301,
     "metadata": {},
     "output_type": "execute_result"
    }
   ],
   "source": [
    "metrics_CR = df_join.groupby('test_group', as_index=False).agg({'id': 'count', 'conversion_flag': 'sum'})\n",
    "metrics_CR['conversion_rate'] = round(metrics_CR['conversion_flag'] / metrics_CR['id'] * 100, 2)\n",
    "metrics_CR"
   ]
  },
  {
   "cell_type": "code",
   "execution_count": 296,
   "id": "3b5ead43-55ab-4ba0-a1eb-6b5624a887a7",
   "metadata": {},
   "outputs": [],
   "source": [
    "import statsmodels.stats.proportion as proportion\n"
   ]
  },
  {
   "cell_type": "code",
   "execution_count": 297,
   "id": "a3b7e316-354e-4b7e-bfa8-544b99fb927d",
   "metadata": {},
   "outputs": [],
   "source": [
    "chi2stat, pval, table = proportion.proportions_chisquare(metrics_CR['conversion_flag'], metrics_CR['id']) "
   ]
  },
  {
   "cell_type": "code",
   "execution_count": 298,
   "id": "dbc482b8-b4bb-469f-aade-5760359d2a72",
   "metadata": {},
   "outputs": [],
   "source": [
    "alpha = 0.05"
   ]
  },
  {
   "cell_type": "code",
   "execution_count": 309,
   "id": "aea5b47a-79c7-42ed-a81d-1aed8c146651",
   "metadata": {},
   "outputs": [
    {
     "name": "stdout",
     "output_type": "stream",
     "text": [
      "0.00011\n"
     ]
    }
   ],
   "source": [
    "print(round(pval,5))"
   ]
  },
  {
   "cell_type": "code",
   "execution_count": 300,
   "id": "2653a1e1-85ce-462b-ac42-890937da0ab6",
   "metadata": {},
   "outputs": [
    {
     "name": "stdout",
     "output_type": "stream",
     "text": [
      "True\n"
     ]
    }
   ],
   "source": [
    "print(pval < alpha)"
   ]
  },
  {
   "cell_type": "code",
   "execution_count": 310,
   "id": "6862a854-62b2-4220-999b-299835aebc21",
   "metadata": {},
   "outputs": [
    {
     "data": {
      "text/html": [
       "<div>\n",
       "<style scoped>\n",
       "    .dataframe tbody tr th:only-of-type {\n",
       "        vertical-align: middle;\n",
       "    }\n",
       "\n",
       "    .dataframe tbody tr th {\n",
       "        vertical-align: top;\n",
       "    }\n",
       "\n",
       "    .dataframe thead th {\n",
       "        text-align: right;\n",
       "    }\n",
       "</style>\n",
       "<table border=\"1\" class=\"dataframe\">\n",
       "  <thead>\n",
       "    <tr style=\"text-align: right;\">\n",
       "      <th></th>\n",
       "      <th>test_group</th>\n",
       "      <th>conversions_num</th>\n",
       "      <th>sum_spent</th>\n",
       "      <th>AOV</th>\n",
       "    </tr>\n",
       "  </thead>\n",
       "  <tbody>\n",
       "    <tr>\n",
       "      <th>0</th>\n",
       "      <td>A</td>\n",
       "      <td>1014</td>\n",
       "      <td>82145.903065</td>\n",
       "      <td>81.01</td>\n",
       "    </tr>\n",
       "    <tr>\n",
       "      <th>1</th>\n",
       "      <td>B</td>\n",
       "      <td>1219</td>\n",
       "      <td>83415.326869</td>\n",
       "      <td>68.43</td>\n",
       "    </tr>\n",
       "  </tbody>\n",
       "</table>\n",
       "</div>"
      ],
      "text/plain": [
       "  test_group  conversions_num     sum_spent    AOV\n",
       "0          A             1014  82145.903065  81.01\n",
       "1          B             1219  83415.326869  68.43"
      ]
     },
     "execution_count": 310,
     "metadata": {},
     "output_type": "execute_result"
    }
   ],
   "source": [
    "metrics_AOV = df_join.groupby('test_group', as_index=False).agg({'conversions_num': 'sum', 'sum_spent': 'sum'})\n",
    "metrics_AOV['AOV'] = round(metrics['sum_spent'] / metrics['conversions_num'], 2)\n",
    "metrics_AOV"
   ]
  },
  {
   "cell_type": "code",
   "execution_count": null,
   "id": "6a206b2f-8047-4493-af25-1ddc138cd613",
   "metadata": {
    "tags": []
   },
   "outputs": [],
   "source": [
    "!pip install bootstrapped"
   ]
  },
  {
   "cell_type": "code",
   "execution_count": null,
   "id": "d3b06c77-d444-43cb-a78b-4448f79ba02f",
   "metadata": {
    "tags": []
   },
   "outputs": [],
   "source": [
    "pip install matplotlib"
   ]
  },
  {
   "cell_type": "code",
   "execution_count": null,
   "id": "c18b938b-831e-4cd5-8718-79c5cb3eaca7",
   "metadata": {},
   "outputs": [],
   "source": [
    "import matplotlib.pyplot as plt"
   ]
  },
  {
   "cell_type": "code",
   "execution_count": null,
   "id": "81a25781-3faf-4170-b2d1-178bb63650a3",
   "metadata": {},
   "outputs": [],
   "source": [
    "import bootstrapped.bootstrap as bs\n",
    "import bootstrapped.stats_functions as bs_stats\n",
    "import bootstrapped.compare_functions as bs_compare"
   ]
  },
  {
   "cell_type": "code",
   "execution_count": null,
   "id": "56360a83-0ba4-4ab0-82d5-696231e0ef72",
   "metadata": {
    "tags": []
   },
   "outputs": [],
   "source": [
    "??bs.bootstrap_ab"
   ]
  },
  {
   "cell_type": "code",
   "execution_count": null,
   "id": "a9384ea1-718b-4231-b5a0-b86548e2a1f5",
   "metadata": {},
   "outputs": [],
   "source": [
    "test = df_join[df_join['test_group'] == 'B']['sum_spent'].dropna().values"
   ]
  },
  {
   "cell_type": "code",
   "execution_count": null,
   "id": "27708900-267c-427f-80af-bee42a1f17e2",
   "metadata": {},
   "outputs": [],
   "source": [
    "ctrl = df_join[df_join['test_group'] == 'A']['sum_spent'].dropna().values"
   ]
  },
  {
   "cell_type": "code",
   "execution_count": 313,
   "id": "0094967c-4a13-40a2-921a-142363fc0d38",
   "metadata": {},
   "outputs": [],
   "source": [
    "boot_results = bs.bootstrap_ab(test = test, ctrl = ctrl\n",
    "                              , stat_func = bs_stats.mean\n",
    "                              , compare_func = bs_compare.difference\n",
    "                              , return_distribution=True)"
   ]
  },
  {
   "cell_type": "code",
   "execution_count": 314,
   "id": "4affc7b0-e4bb-47b7-a78a-1c2b2a9e583f",
   "metadata": {},
   "outputs": [
    {
     "data": {
      "text/plain": [
       "array([ -5.39264644,  -5.81063269, -14.40034155, ..., -15.75322354,\n",
       "        -9.68257637, -13.48575752])"
      ]
     },
     "execution_count": 314,
     "metadata": {},
     "output_type": "execute_result"
    }
   ],
   "source": [
    "boot_results"
   ]
  },
  {
   "cell_type": "code",
   "execution_count": 316,
   "id": "bf7ccf83-388f-4720-a6c5-b48219fa714e",
   "metadata": {},
   "outputs": [
    {
     "data": {
      "text/plain": [
       "array([-21.28200373,  -4.55168545])"
      ]
     },
     "execution_count": 316,
     "metadata": {},
     "output_type": "execute_result"
    }
   ],
   "source": [
    "borders = np.percentile(boot_results, [2.5, 97.5]) # считаем перцентили\n",
    "borders"
   ]
  },
  {
   "cell_type": "code",
   "execution_count": 281,
   "id": "20999bcb-3140-4f67-955a-bdba3afa9003",
   "metadata": {},
   "outputs": [
    {
     "data": {
      "text/html": [
       "<div>\n",
       "<style scoped>\n",
       "    .dataframe tbody tr th:only-of-type {\n",
       "        vertical-align: middle;\n",
       "    }\n",
       "\n",
       "    .dataframe tbody tr th {\n",
       "        vertical-align: top;\n",
       "    }\n",
       "\n",
       "    .dataframe thead th {\n",
       "        text-align: right;\n",
       "    }\n",
       "</style>\n",
       "<table border=\"1\" class=\"dataframe\">\n",
       "  <thead>\n",
       "    <tr style=\"text-align: right;\">\n",
       "      <th></th>\n",
       "      <th>test_group</th>\n",
       "      <th>id</th>\n",
       "      <th>conversion_flag</th>\n",
       "      <th>conversions_num</th>\n",
       "      <th>sum_spent</th>\n",
       "      <th>conversion_rate</th>\n",
       "      <th>AOV</th>\n",
       "      <th>average_user_spent</th>\n",
       "    </tr>\n",
       "  </thead>\n",
       "  <tbody>\n",
       "    <tr>\n",
       "      <th>0</th>\n",
       "      <td>A</td>\n",
       "      <td>24343</td>\n",
       "      <td>955</td>\n",
       "      <td>1014</td>\n",
       "      <td>82145.903065</td>\n",
       "      <td>3.92</td>\n",
       "      <td>81.01</td>\n",
       "      <td>3.37</td>\n",
       "    </tr>\n",
       "    <tr>\n",
       "      <th>1</th>\n",
       "      <td>B</td>\n",
       "      <td>24600</td>\n",
       "      <td>1139</td>\n",
       "      <td>1219</td>\n",
       "      <td>83415.326869</td>\n",
       "      <td>4.63</td>\n",
       "      <td>68.43</td>\n",
       "      <td>3.39</td>\n",
       "    </tr>\n",
       "  </tbody>\n",
       "</table>\n",
       "</div>"
      ],
      "text/plain": [
       "  test_group     id  conversion_flag  conversions_num     sum_spent  \\\n",
       "0          A  24343              955             1014  82145.903065   \n",
       "1          B  24600             1139             1219  83415.326869   \n",
       "\n",
       "   conversion_rate    AOV  average_user_spent  \n",
       "0             3.92  81.01                3.37  \n",
       "1             4.63  68.43                3.39  "
      ]
     },
     "execution_count": 281,
     "metadata": {},
     "output_type": "execute_result"
    }
   ],
   "source": [
    "metrics_all = df_join.groupby('test_group', as_index=False).agg({'id': 'count', 'conversion_flag': 'sum','conversions_num': 'sum', 'sum_spent': 'sum'})\n",
    "metrics_all['conversion_rate'] = round(metrics_CR['conversion_flag'] / metrics_CR['id'] * 100, 2)\n",
    "metrics_all['AOV'] = round(metrics_all['sum_spent'] / metrics_all['conversions_num'], 2)\n",
    "metrics_all['average_user_spent'] = round(metrics_all['sum_spent'] / metrics_all['id'], 2)\n",
    "\n",
    "\n",
    "metrics_all"
   ]
  },
  {
   "cell_type": "code",
   "execution_count": null,
   "id": "21fb1f0c-6f16-4616-8026-ed187ec854fa",
   "metadata": {},
   "outputs": [],
   "source": []
  },
  {
   "cell_type": "code",
   "execution_count": null,
   "id": "76216d2a-30b4-4cf9-a561-9f4180fc8209",
   "metadata": {},
   "outputs": [],
   "source": []
  }
 ],
 "metadata": {
  "kernelspec": {
   "display_name": "Python 3 (ipykernel)",
   "language": "python",
   "name": "python3"
  },
  "language_info": {
   "codemirror_mode": {
    "name": "ipython",
    "version": 3
   },
   "file_extension": ".py",
   "mimetype": "text/x-python",
   "name": "python",
   "nbconvert_exporter": "python",
   "pygments_lexer": "ipython3",
   "version": "3.11.2"
  }
 },
 "nbformat": 4,
 "nbformat_minor": 5
}
